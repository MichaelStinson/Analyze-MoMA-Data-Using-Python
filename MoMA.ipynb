{
 "cells": [
  {
   "cell_type": "markdown",
   "id": "821facc4",
   "metadata": {},
   "source": [
    "# MoMA Data Cleaning and Analysis\n",
    "\n",
    "Data about the art in the Museum of Modern Art (MoMA)\n",
    "\n",
    "## Data headers\n",
    "Column      | Index | Description\n",
    "----------- | --- | -----------\n",
    "Title | 0 | the title of the artwork\n",
    "Artist | 1 | the name of the artist who created the artwork\n",
    "Nationality | 2 |  the nationality of the artist\n",
    "BeginDate | 3 | the year in which the artist was born\n",
    "EndDate | 4 | the year in which the artist died\n",
    "Gender | 5 | the gender of the artist\n",
    "Date | 6 | the date that the artwork was created\n",
    "Department | 7 | the department inside MoMA to which the artwork belongs"
   ]
  },
  {
   "cell_type": "markdown",
   "id": "db17476e",
   "metadata": {},
   "source": [
    "## Read data\n",
    "Open the data file and read in the data\n",
    "\n",
    "Print the header row, then delete it from data"
   ]
  },
  {
   "cell_type": "code",
   "execution_count": 23,
   "id": "2aa65e7c",
   "metadata": {},
   "outputs": [
    {
     "name": "stdout",
     "output_type": "stream",
     "text": [
      "['Title', 'Artist', 'Nationality', 'BeginDate', 'EndDate', 'Gender', 'Date', 'Department']\n"
     ]
    }
   ],
   "source": [
    "from csv import reader\n",
    "opened_file = open('artworks.csv', encoding='utf-8')\n",
    "read_file = reader(opened_file)\n",
    "moma = list(read_file)\n",
    "print(moma[0])\n",
    "moma = moma[1:]"
   ]
  },
  {
   "cell_type": "markdown",
   "id": "593f52f2",
   "metadata": {},
   "source": [
    "Print the first few rows of the data"
   ]
  },
  {
   "cell_type": "code",
   "execution_count": 24,
   "id": "dd944719",
   "metadata": {},
   "outputs": [
    {
     "name": "stdout",
     "output_type": "stream",
     "text": [
      "['Dress MacLeod from Tartan Sets', 'Sarah Charlesworth', '(American)', '(1947)', '(2013)', '(Female)', '1986', 'Prints & Illustrated Books'] \n",
      "\n",
      "['Duplicate of plate from folio 11 verso (supplementary suite, plate 4) from ARDICIA', 'Pablo Palazuelo', '(Spanish)', '(1916)', '(2007)', '(Male)', '1978', 'Prints & Illustrated Books'] \n",
      "\n",
      "['Tailpiece (page 55) from SAGESSE', 'Maurice Denis', '(French)', '(1870)', '(1943)', '(Male)', '1889-1911', 'Prints & Illustrated Books'] \n",
      "\n"
     ]
    }
   ],
   "source": [
    "def print_rows(dataset, num_rows):\n",
    "    for row in dataset[:num_rows]:\n",
    "        print (row, '\\n')\n",
    "    return\n",
    "\n",
    "print_rows(moma, 3)"
   ]
  },
  {
   "cell_type": "markdown",
   "id": "be5ecda1",
   "metadata": {},
   "source": [
    "## Clean data\n",
    "Remove the parentheses from several columns\n",
    " \n",
    "Rather than re-writing code for each column as instructed in DQ, I've created a function that can be re-used for each column we want to clean"
   ]
  },
  {
   "cell_type": "code",
   "execution_count": 25,
   "id": "c177cea1",
   "metadata": {},
   "outputs": [
    {
     "name": "stdout",
     "output_type": "stream",
     "text": [
      "\n"
     ]
    }
   ],
   "source": [
    "def remove_parens(dataset, index):\n",
    "    for row in dataset:\n",
    "        string = row[index]\n",
    "        string = string.replace('(', '')\n",
    "        string = string.replace(')', '')\n",
    "        row[index] = string\n",
    "    return dataset\n",
    "\n",
    "remove_parens(moma, 2)\n",
    "remove_parens(moma, 3)\n",
    "remove_parens(moma, 4)\n",
    "remove_parens(moma, 5)\n",
    "print() # used to avoid printing the return of the final remove_parens call"
   ]
  },
  {
   "cell_type": "markdown",
   "id": "7ae87fa4",
   "metadata": {},
   "source": [
    "Print some data to validate that parens have been removed"
   ]
  },
  {
   "cell_type": "code",
   "execution_count": 26,
   "id": "f7bd734d",
   "metadata": {},
   "outputs": [
    {
     "name": "stdout",
     "output_type": "stream",
     "text": [
      "['Dress MacLeod from Tartan Sets', 'Sarah Charlesworth', 'American', '1947', '2013', 'Female', '1986', 'Prints & Illustrated Books'] \n",
      "\n",
      "['Duplicate of plate from folio 11 verso (supplementary suite, plate 4) from ARDICIA', 'Pablo Palazuelo', 'Spanish', '1916', '2007', 'Male', '1978', 'Prints & Illustrated Books'] \n",
      "\n",
      "['Tailpiece (page 55) from SAGESSE', 'Maurice Denis', 'French', '1870', '1943', 'Male', '1889-1911', 'Prints & Illustrated Books'] \n",
      "\n"
     ]
    }
   ],
   "source": [
    "print_rows(moma, 3)"
   ]
  },
  {
   "cell_type": "markdown",
   "id": "da31542e",
   "metadata": {},
   "source": [
    "Clean up data in the Gender [5] and Nationality [2] columns\n",
    "\n",
    "Normalize capitalization and add values to specify unknown as needed"
   ]
  },
  {
   "cell_type": "code",
   "execution_count": 27,
   "id": "cb31b038",
   "metadata": {},
   "outputs": [],
   "source": [
    "for row in moma:\n",
    "    gender = row[5]\n",
    "    gender = gender.title()\n",
    "    if not gender:\n",
    "        gender = 'Gender Unknown/Other'\n",
    "    row[5] = gender\n",
    "    \n",
    "    nat = row[2]\n",
    "    nat = nat.title()\n",
    "    if not nat:\n",
    "        nat = 'Nationality Unknown'\n",
    "    row[2] = nat"
   ]
  },
  {
   "cell_type": "markdown",
   "id": "de4e1045",
   "metadata": {},
   "source": [
    "Convert dates from strings to integer values, to make them easier to work with"
   ]
  },
  {
   "cell_type": "code",
   "execution_count": 28,
   "id": "0462aff7",
   "metadata": {},
   "outputs": [
    {
     "name": "stdout",
     "output_type": "stream",
     "text": [
      "['Dress MacLeod from Tartan Sets', 'Sarah Charlesworth', 'American', 1947, 2013, 'Female', '1986', 'Prints & Illustrated Books'] \n",
      "\n",
      "['Duplicate of plate from folio 11 verso (supplementary suite, plate 4) from ARDICIA', 'Pablo Palazuelo', 'Spanish', 1916, 2007, 'Male', '1978', 'Prints & Illustrated Books'] \n",
      "\n",
      "['Tailpiece (page 55) from SAGESSE', 'Maurice Denis', 'French', 1870, 1943, 'Male', '1889-1911', 'Prints & Illustrated Books'] \n",
      "\n"
     ]
    }
   ],
   "source": [
    "def convert_to_int(dataset, index):\n",
    "    for row in dataset:\n",
    "        string = row[index]\n",
    "        if string != '':\n",
    "            string = int(string)\n",
    "            row[index] = string\n",
    "    return dataset\n",
    "\n",
    "convert_to_int(moma, 3)\n",
    "convert_to_int(moma, 4)\n",
    "\n",
    "print_rows(moma, 3)"
   ]
  },
  {
   "cell_type": "markdown",
   "id": "5a378448",
   "metadata": {},
   "source": [
    "The data for when art was created has some variances - there are some additional characters included in some rows (e.g. 'c. 1920' instead of just '1920') and some rows include a range of years instead of a specific year\n",
    "\n",
    "Remove extra characters\n",
    "\n",
    "In addition to the DQ exercise, added functionality to detect any characters outside a list of valid characters. '-' is included as a valid character, as it denotes a date range, which will be parsed in the next section"
   ]
  },
  {
   "cell_type": "code",
   "execution_count": 29,
   "id": "010bba89",
   "metadata": {},
   "outputs": [
    {
     "name": "stdout",
     "output_type": "stream",
     "text": [
      "Found the following non-valid chars:  ['(', ')', 'c', '.', ' ', 's', \"'\"] \n",
      "\n",
      "['Dress MacLeod from Tartan Sets', 'Sarah Charlesworth', 'American', 1947, 2013, 'Female', '1986', 'Prints & Illustrated Books'] \n",
      "\n",
      "['Duplicate of plate from folio 11 verso (supplementary suite, plate 4) from ARDICIA', 'Pablo Palazuelo', 'Spanish', 1916, 2007, 'Male', '1978', 'Prints & Illustrated Books'] \n",
      "\n",
      "['Tailpiece (page 55) from SAGESSE', 'Maurice Denis', 'French', 1870, 1943, 'Male', '1889-1911', 'Prints & Illustrated Books'] \n",
      "\n"
     ]
    }
   ],
   "source": [
    "valid_chars = ['1', '2', '3', '4', '5', '6', '7', '8', '9', '0', '-']\n",
    "bad_chars = []\n",
    "for row in moma:\n",
    "    string = row[6]\n",
    "    for char in string:\n",
    "        if char not in valid_chars:\n",
    "            string = string.replace(char, '')\n",
    "            if char not in bad_chars:\n",
    "                bad_chars.append(char)\n",
    "    row[6] = string\n",
    "                               \n",
    "print('Found the following non-valid chars: ', bad_chars, '\\n')\n",
    "\n",
    "print_rows(moma, 3)"
   ]
  },
  {
   "cell_type": "markdown",
   "id": "0c82ed7b",
   "metadata": {},
   "source": [
    "Where we have a range of dates, convert the value to the average\n",
    "\n",
    "When the third row of data is printed, see that the date range has been converted to a single date that averages the previous range"
   ]
  },
  {
   "cell_type": "code",
   "execution_count": 30,
   "id": "fd0fde63",
   "metadata": {},
   "outputs": [
    {
     "name": "stdout",
     "output_type": "stream",
     "text": [
      "['Dress MacLeod from Tartan Sets', 'Sarah Charlesworth', 'American', 1947, 2013, 'Female', 1986, 'Prints & Illustrated Books'] \n",
      "\n",
      "['Duplicate of plate from folio 11 verso (supplementary suite, plate 4) from ARDICIA', 'Pablo Palazuelo', 'Spanish', 1916, 2007, 'Male', 1978, 'Prints & Illustrated Books'] \n",
      "\n",
      "['Tailpiece (page 55) from SAGESSE', 'Maurice Denis', 'French', 1870, 1943, 'Male', 1900, 'Prints & Illustrated Books'] \n",
      "\n"
     ]
    }
   ],
   "source": [
    "def process_date(string):\n",
    "    if '-' in string:\n",
    "        d1, d2 = string.split('-')\n",
    "        avg = round((int(d1) + int(d2)) / 2) \n",
    "        return avg\n",
    "    else:\n",
    "        return int(string)\n",
    "    \n",
    "for row in moma:\n",
    "    string = row[6]\n",
    "    string = process_date(string)\n",
    "    row[6] = string\n",
    "    \n",
    "print_rows(moma, 3)"
   ]
  },
  {
   "cell_type": "markdown",
   "id": "c0b8ffd3",
   "metadata": {},
   "source": [
    "## Analyze data\n",
    "\n",
    "Working with the dataset, we'll do the following:\n",
    "- Calculate the artist's age when they created their artwork\n",
    "- Analyze and interpret the distribution of artist ages\n",
    "- Create functions that summarize our data\n",
    "- Print summaries in an easy-to-read-way"
   ]
  },
  {
   "cell_type": "code",
   "execution_count": 38,
   "id": "1cf7dd60",
   "metadata": {},
   "outputs": [
    {
     "name": "stdout",
     "output_type": "stream",
     "text": [
      "{'30s': 4722, '60s': 1357, '70s': 559, '40s': 4081, '50s': 2434, '20s': 1856, 'Unknown': 1093, '90s': 253, '80s': 364, '100s': 3, '110s': 3}\n"
     ]
    }
   ],
   "source": [
    "# Determine the age of each artist\n",
    "ages = []\n",
    "\n",
    "for row in moma:\n",
    "    date = row[6]\n",
    "    birth = row[3]\n",
    "    age = 0\n",
    "    if type(birth) == int:\n",
    "        age = int(date) - int(birth)\n",
    "    ages.append(age)\n",
    "    \n",
    "final_ages = []\n",
    "\n",
    "for age in ages:\n",
    "    final_age = 'Unknown'\n",
    "    if age > 20:\n",
    "        final_age = age\n",
    "    final_ages.append(final_age)\n",
    "\n",
    "# Convert the age into a decade\n",
    "decades = []\n",
    "\n",
    "for age in final_ages:\n",
    "    decade = 'Unknown'\n",
    "    if age != 'Unknown':\n",
    "        decade = str(age)\n",
    "        decade = decade[:-1]\n",
    "        decade += '0s'\n",
    "    decades.append(decade)\n",
    "    \n",
    "# Create a frequency table for each decade\n",
    "decade_frequency = {}\n",
    "\n",
    "for dec in decades:\n",
    "    if dec in decade_frequency:\n",
    "        decade_frequency[dec] += 1\n",
    "    else:\n",
    "        decade_frequency[dec] = 1\n",
    "        \n",
    "print(decade_frequency)"
   ]
  },
  {
   "cell_type": "markdown",
   "id": "03c69a2d",
   "metadata": {},
   "source": [
    "Create a frequency table for the number of works each artist created"
   ]
  },
  {
   "cell_type": "code",
   "execution_count": 37,
   "id": "5ecd4ab3",
   "metadata": {},
   "outputs": [],
   "source": [
    "artist_freq = {}\n",
    "\n",
    "for row in moma:\n",
    "    artist = row[1]\n",
    "    if artist not in artist_freq:\n",
    "        artist_freq[artist] = 1\n",
    "    else:\n",
    "        artist_freq[artist] += 1\n",
    "        \n",
    "#print(artist_freq)"
   ]
  },
  {
   "cell_type": "markdown",
   "id": "f68238ae",
   "metadata": {},
   "source": [
    "Sort the frequency table to see which artists have created the most art"
   ]
  },
  {
   "cell_type": "code",
   "execution_count": 36,
   "id": "dd17081f",
   "metadata": {},
   "outputs": [
    {
     "name": "stdout",
     "output_type": "stream",
     "text": [
      "Eugène Atget : 705\n",
      "Louise Bourgeois : 495\n",
      "Unknown : 448\n",
      "Ludwig Mies van der Rohe : 318\n",
      "Jean Dubuffet : 206\n",
      "Lee Friedlander : 180\n",
      "Marc Chagall : 173\n",
      "Pierre Bonnard : 129\n",
      "Henri Matisse : 129\n",
      "Lilly Reich : 118\n",
      "Frank Lloyd Wright : 112\n",
      "August Sander : 105\n",
      "Sol LeWitt : 89\n",
      "André Derain : 86\n",
      "Pablo Picasso : 84\n",
      "Émile Bernard : 83\n",
      "Dorothea Lange : 83\n",
      "Joan Miró : 78\n",
      "Aristide Maillol : 77\n",
      "Jasper Johns : 76\n"
     ]
    }
   ],
   "source": [
    "table = artist_freq\n",
    "table_display = []\n",
    "for key in table:\n",
    "    key_val_as_tuple = (table[key], key)\n",
    "    table_display.append(key_val_as_tuple)\n",
    "\n",
    "table_sorted = sorted(table_display, reverse = True)\n",
    "for entry in table_sorted[:20]:\n",
    "    print(entry[1], ':', entry[0])"
   ]
  },
  {
   "cell_type": "markdown",
   "id": "e9ac0cd9",
   "metadata": {},
   "source": [
    "Print summary statistics about various artists"
   ]
  },
  {
   "cell_type": "code",
   "execution_count": 34,
   "id": "bcabf4a2",
   "metadata": {},
   "outputs": [
    {
     "name": "stdout",
     "output_type": "stream",
     "text": [
      "There are 129 artworks by Henri Matisse in the data set\n",
      "There is 1 artwork by Sarah Charlesworth in the data set\n"
     ]
    }
   ],
   "source": [
    "def artist_summary(artist):\n",
    "    num_artworks = artist_freq[artist]\n",
    "    if num_artworks > 1:\n",
    "        return \"There are {} artworks by {} in the data set\".format(num_artworks, artist)\n",
    "    elif num_artworks == 1:\n",
    "        return \"There is {} artwork by {} in the data set\".format(num_artworks, artist)\n",
    "    else:\n",
    "        return \"There is no artwork by {} in the data set\".format(artist)\n",
    "    \n",
    "print (artist_summary(\"Henri Matisse\"))\n",
    "print (artist_summary(\"Sarah Charlesworth\"))"
   ]
  },
  {
   "cell_type": "markdown",
   "id": "1b49ae4b",
   "metadata": {},
   "source": [
    "Display information about the frequencies of artwork by artists of different genders"
   ]
  },
  {
   "cell_type": "code",
   "execution_count": 35,
   "id": "e66fa44a",
   "metadata": {},
   "outputs": [
    {
     "name": "stdout",
     "output_type": "stream",
     "text": [
      "There are 2,443 artworks by Female artists\n",
      "There are 13,491 artworks by Male artists\n",
      "There are 791 artworks by Gender Unknown/Other artists\n"
     ]
    }
   ],
   "source": [
    "gender_freq = {}\n",
    "\n",
    "for row in moma:\n",
    "    gender = row[5]\n",
    "    if gender not in gender_freq:\n",
    "        gender_freq[gender] = 1\n",
    "    else:\n",
    "        gender_freq[gender] += 1\n",
    "        \n",
    "for key, value in gender_freq.items():\n",
    "    print(\"There are {:,} artworks by {} artists\".format(value, key))"
   ]
  }
 ],
 "metadata": {
  "kernelspec": {
   "display_name": "Python 3 (ipykernel)",
   "language": "python",
   "name": "python3"
  },
  "language_info": {
   "codemirror_mode": {
    "name": "ipython",
    "version": 3
   },
   "file_extension": ".py",
   "mimetype": "text/x-python",
   "name": "python",
   "nbconvert_exporter": "python",
   "pygments_lexer": "ipython3",
   "version": "3.9.7"
  }
 },
 "nbformat": 4,
 "nbformat_minor": 5
}
