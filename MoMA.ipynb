{
 "cells": [
  {
   "cell_type": "markdown",
   "id": "f637ac0c",
   "metadata": {},
   "source": [
    "# MoMA Data Analysis\n",
    "\n",
    "We are going to work with data about the art in the Museum of Modern Art (MoMA)\n",
    "\n",
    "## Data headers\n",
    " Column      | Index | Description\n",
    "----------- | --- | -----------\n",
    "Title | 0 | the title of the artwork\n",
    "Artist | 1 | the name of the artist who created the artwork\n",
    "Nationality | 2 |  the nationality of the artist\n",
    "BeginDate | 3 | the year in which the artist was born\n",
    "EndDate | 4 | the year in which the artist died\n",
    "Gender | 5 | the gender of the artist\n",
    "Date | 6 | the date that the artwork was created\n",
    "Department | 7 | the department inside MoMA to which the artwork belongs"
   ]
  },
  {
   "cell_type": "markdown",
   "id": "ad6db0d8",
   "metadata": {},
   "source": [
    "Open the data file and read in the data.\n",
    "\n",
    "Print the header row, then delete it from our data"
   ]
  },
  {
   "cell_type": "code",
   "execution_count": 27,
   "id": "1fa69f7f",
   "metadata": {},
   "outputs": [
    {
     "name": "stdout",
     "output_type": "stream",
     "text": [
      "['Title', 'Artist', 'Nationality', 'BeginDate', 'EndDate', 'Gender', 'Date', 'Department']\n"
     ]
    }
   ],
   "source": [
    "from csv import reader\n",
    "opened_file = open('artworks.csv', encoding='utf-8')\n",
    "read_file = reader(opened_file)\n",
    "moma = list(read_file)\n",
    "print(moma[0])\n",
    "moma = moma[1:]"
   ]
  },
  {
   "cell_type": "markdown",
   "id": "1aee40bc",
   "metadata": {},
   "source": [
    "Print the first few rows of the data"
   ]
  },
  {
   "cell_type": "code",
   "execution_count": 28,
   "id": "1215b7a8",
   "metadata": {},
   "outputs": [
    {
     "name": "stdout",
     "output_type": "stream",
     "text": [
      "['Dress MacLeod from Tartan Sets', 'Sarah Charlesworth', '(American)', '(1947)', '(2013)', '(Female)', '1986', 'Prints & Illustrated Books'] \n",
      "\n",
      "['Duplicate of plate from folio 11 verso (supplementary suite, plate 4) from ARDICIA', 'Pablo Palazuelo', '(Spanish)', '(1916)', '(2007)', '(Male)', '1978', 'Prints & Illustrated Books'] \n",
      "\n",
      "['Tailpiece (page 55) from SAGESSE', 'Maurice Denis', '(French)', '(1870)', '(1943)', '(Male)', '1889-1911', 'Prints & Illustrated Books'] \n",
      "\n"
     ]
    }
   ],
   "source": [
    "for row in moma[:3]:\n",
    "    print (row, '\\n')"
   ]
  },
  {
   "cell_type": "markdown",
   "id": "f63cf188",
   "metadata": {},
   "source": [
    "Remove the parentheses from several columns\n",
    " \n",
    "Rather than re-writing code for each column as instructed in DQ, I've created a function that can be re-used for each column we want to clean"
   ]
  },
  {
   "cell_type": "code",
   "execution_count": 29,
   "id": "93702fa7",
   "metadata": {},
   "outputs": [
    {
     "name": "stdout",
     "output_type": "stream",
     "text": [
      "\n"
     ]
    }
   ],
   "source": [
    "def remove_parens(dataset, index):\n",
    "    for row in dataset:\n",
    "        str = row[index]\n",
    "        str = str.replace('(', '')\n",
    "        str = str.replace(')', '')\n",
    "        row[index] = str\n",
    "    return dataset\n",
    "\n",
    "remove_parens(moma, 2)\n",
    "remove_parens(moma, 3)\n",
    "remove_parens(moma, 4)\n",
    "remove_parens(moma, 5)\n",
    "print() # used to avoid printing the return of the final remove_parens call"
   ]
  },
  {
   "cell_type": "markdown",
   "id": "9e4a18a8",
   "metadata": {},
   "source": [
    "Print the data to validate that parens have been removed"
   ]
  },
  {
   "cell_type": "code",
   "execution_count": 30,
   "id": "d0a4179e",
   "metadata": {},
   "outputs": [
    {
     "name": "stdout",
     "output_type": "stream",
     "text": [
      "['Dress MacLeod from Tartan Sets', 'Sarah Charlesworth', 'American', '1947', '2013', 'Female', '1986', 'Prints & Illustrated Books'] \n",
      "\n",
      "['Duplicate of plate from folio 11 verso (supplementary suite, plate 4) from ARDICIA', 'Pablo Palazuelo', 'Spanish', '1916', '2007', 'Male', '1978', 'Prints & Illustrated Books'] \n",
      "\n",
      "['Tailpiece (page 55) from SAGESSE', 'Maurice Denis', 'French', '1870', '1943', 'Male', '1889-1911', 'Prints & Illustrated Books'] \n",
      "\n"
     ]
    }
   ],
   "source": [
    "for row in moma[:3]:\n",
    "    print (row, '\\n')"
   ]
  },
  {
   "cell_type": "markdown",
   "id": "d4ebeaa2",
   "metadata": {},
   "source": [
    "Clean up data in the Gender [5] and Nationality [2] columns\n",
    "\n",
    "Normalize capitalization and add values to specify unknown as needed"
   ]
  },
  {
   "cell_type": "code",
   "execution_count": 31,
   "id": "4acaa841",
   "metadata": {},
   "outputs": [],
   "source": [
    "for row in moma:\n",
    "    gender = row[5]\n",
    "    gender = gender.title()\n",
    "    if not gender:\n",
    "        gender = 'Gender Unknown/Other'\n",
    "    row[5] = gender\n",
    "    \n",
    "    nat = row[2]\n",
    "    nat = nat.title()\n",
    "    if not nat:\n",
    "        nat = 'Nationality Unknown'\n",
    "    row[2] = nat"
   ]
  },
  {
   "cell_type": "markdown",
   "id": "c8dc4cd2",
   "metadata": {},
   "source": [
    "Convert dates from strings to integer values, to make them easier to work with"
   ]
  },
  {
   "cell_type": "code",
   "execution_count": 32,
   "id": "c1fbfb06",
   "metadata": {},
   "outputs": [
    {
     "name": "stdout",
     "output_type": "stream",
     "text": [
      "['Dress MacLeod from Tartan Sets', 'Sarah Charlesworth', 'American', 1947, 2013, 'Female', '1986', 'Prints & Illustrated Books'] \n",
      "\n",
      "['Duplicate of plate from folio 11 verso (supplementary suite, plate 4) from ARDICIA', 'Pablo Palazuelo', 'Spanish', 1916, 2007, 'Male', '1978', 'Prints & Illustrated Books'] \n",
      "\n",
      "['Tailpiece (page 55) from SAGESSE', 'Maurice Denis', 'French', 1870, 1943, 'Male', '1889-1911', 'Prints & Illustrated Books'] \n",
      "\n"
     ]
    }
   ],
   "source": [
    "def convert_to_int(dataset, index):\n",
    "    for row in dataset:\n",
    "        str = row[index]\n",
    "        if str != '':\n",
    "            str = int(str)\n",
    "            row[index] = str\n",
    "    return dataset\n",
    "\n",
    "convert_to_int(moma, 3)\n",
    "convert_to_int(moma, 4)\n",
    "\n",
    "for row in moma[:3]:\n",
    "    print (row, '\\n')"
   ]
  },
  {
   "cell_type": "markdown",
   "id": "aab1499d",
   "metadata": {},
   "source": [
    "The data for when art was created has some variances - there are some additional characters included in some rows (e.g. 'c. 1920' instead of just '1920') and some rows include a range of years instead of a specific year\n",
    "\n",
    "Remove extra characters"
   ]
  },
  {
   "cell_type": "code",
   "execution_count": 33,
   "id": "3d5c2b32",
   "metadata": {},
   "outputs": [
    {
     "name": "stdout",
     "output_type": "stream",
     "text": [
      "['(', ')', 'c', '.', ' ', 's', \"'\"] \n",
      "\n",
      "['Dress MacLeod from Tartan Sets', 'Sarah Charlesworth', 'American', 1947, 2013, 'Female', '1986', 'Prints & Illustrated Books'] \n",
      "\n",
      "['Duplicate of plate from folio 11 verso (supplementary suite, plate 4) from ARDICIA', 'Pablo Palazuelo', 'Spanish', 1916, 2007, 'Male', '1978', 'Prints & Illustrated Books'] \n",
      "\n",
      "['Tailpiece (page 55) from SAGESSE', 'Maurice Denis', 'French', 1870, 1943, 'Male', '1889-1911', 'Prints & Illustrated Books'] \n",
      "\n"
     ]
    }
   ],
   "source": [
    "valid_chars = ['1', '2', '3', '4', '5', '6', '7', '8', '9', '0', '-']\n",
    "bad_chars = []\n",
    "for row in moma:\n",
    "    str = row[6]\n",
    "    for char in str:\n",
    "        if char not in valid_chars:\n",
    "            str = str.replace(char, '')\n",
    "            if char not in bad_chars:\n",
    "                bad_chars.append(char)\n",
    "    row[6] = str\n",
    "                               \n",
    "print(bad_chars, '\\n')\n",
    "\n",
    "for row in moma[:3]:\n",
    "    print (row, '\\n')"
   ]
  },
  {
   "cell_type": "markdown",
   "id": "e3e288ed",
   "metadata": {},
   "source": [
    "Where we have a range of dates, convert the value to the average"
   ]
  },
  {
   "cell_type": "code",
   "execution_count": 34,
   "id": "c4352315",
   "metadata": {},
   "outputs": [
    {
     "name": "stdout",
     "output_type": "stream",
     "text": [
      "['Dress MacLeod from Tartan Sets', 'Sarah Charlesworth', 'American', 1947, 2013, 'Female', 1986, 'Prints & Illustrated Books'] \n",
      "\n",
      "['Duplicate of plate from folio 11 verso (supplementary suite, plate 4) from ARDICIA', 'Pablo Palazuelo', 'Spanish', 1916, 2007, 'Male', 1978, 'Prints & Illustrated Books'] \n",
      "\n",
      "['Tailpiece (page 55) from SAGESSE', 'Maurice Denis', 'French', 1870, 1943, 'Male', 1900, 'Prints & Illustrated Books'] \n",
      "\n"
     ]
    }
   ],
   "source": [
    "def process_date(string):\n",
    "    if '-' in string:\n",
    "        d1, d2 = string.split('-')\n",
    "        avg = round((int(d1) + int(d2)) / 2) \n",
    "        return avg\n",
    "    else:\n",
    "        return int(string)\n",
    "    \n",
    "for row in moma:\n",
    "    string = row[6]\n",
    "    string = process_date(string)\n",
    "    row[6] = string\n",
    "    \n",
    "for row in moma[:3]:\n",
    "    print (row, '\\n')"
   ]
  },
  {
   "cell_type": "code",
   "execution_count": null,
   "id": "05b7af38",
   "metadata": {},
   "outputs": [],
   "source": []
  }
 ],
 "metadata": {
  "kernelspec": {
   "display_name": "Python 3 (ipykernel)",
   "language": "python",
   "name": "python3"
  },
  "language_info": {
   "codemirror_mode": {
    "name": "ipython",
    "version": 3
   },
   "file_extension": ".py",
   "mimetype": "text/x-python",
   "name": "python",
   "nbconvert_exporter": "python",
   "pygments_lexer": "ipython3",
   "version": "3.9.7"
  }
 },
 "nbformat": 4,
 "nbformat_minor": 5
}
